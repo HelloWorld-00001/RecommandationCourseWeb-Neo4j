{
 "cells": [
  {
   "cell_type": "code",
   "execution_count": 11,
   "metadata": {},
   "outputs": [
    {
     "name": "stdout",
     "output_type": "stream",
     "text": [
      " where  toUpper(c.level) = \"BASIC\" and c.price = 0 and c.duration < 9\n"
     ]
    }
   ],
   "source": [
    "def makeCourseFilterCondition(level, price, duration):\n",
    "        condition = \" where \"\n",
    "\n",
    "        if (level == \"None\"):\n",
    "            levelCondition = \"\"\n",
    "        else:\n",
    "            condition += f\" toUpper(c.level) = \\\"{level.upper()}\\\" and \"\n",
    "\n",
    "        if price == \"Free\":\n",
    "            condition += f\"c.price = 0\"\n",
    "        else:\n",
    "            condition += f\"c.price != 0\"\n",
    "        \n",
    "        if (duration != \"Unlimit\"):\n",
    "            condition += f\" and c.duration < {int(duration) + 1}\"\n",
    "\n",
    "\n",
    "        return condition\n",
    "\n",
    "\n",
    "print(makeCourseFilterCondition(\"Basic\", \"Free\", \"8\"))\n"
   ]
  },
  {
   "cell_type": "code",
   "execution_count": 3,
   "metadata": {},
   "outputs": [],
   "source": [
    "import pandas as pd\n",
    "import ast\n",
    "\n",
    "DEFAULT_PATH = \"/Users/nguyenvanviet/Work/Courses/DataGen/RecommandationCourseWeb-Neo4j/MyPaperDataSet/ETLCode/GDWData/\"\n",
    "fileName = DEFAULT_PATH + \"JobDataForRDW.csv\"\n",
    "df = pd.read_csv(fileName)\n",
    "\n",
    "def parse_knowledge(knowledge_str):\n",
    "    try:\n",
    "        # Convert the string representation of the list to an actual list\n",
    "        return ast.literal_eval(knowledge_str)\n",
    "    except Exception as e:\n",
    "        print(f\"Error parsing knowledge column: {e}\")\n",
    "        return []\n",
    "    \n",
    "\n",
    "df['Knowledge'] = df['Knowledge'].apply(parse_knowledge)\n",
    "\n",
    "exploded_df = df.explode('Knowledge')\n",
    "exploded_df.to_csv(DEFAULT_PATH + 'jobDataForRDW2.csv', index=False)"
   ]
  },
  {
   "cell_type": "code",
   "execution_count": 6,
   "metadata": {},
   "outputs": [
    {
     "data": {
      "text/html": [
       "<div>\n",
       "<style scoped>\n",
       "    .dataframe tbody tr th:only-of-type {\n",
       "        vertical-align: middle;\n",
       "    }\n",
       "\n",
       "    .dataframe tbody tr th {\n",
       "        vertical-align: top;\n",
       "    }\n",
       "\n",
       "    .dataframe thead th {\n",
       "        text-align: right;\n",
       "    }\n",
       "</style>\n",
       "<table border=\"1\" class=\"dataframe\">\n",
       "  <thead>\n",
       "    <tr style=\"text-align: right;\">\n",
       "      <th></th>\n",
       "      <th>ProgrammingLanguage</th>\n",
       "      <th>Framework</th>\n",
       "      <th>Knowledge</th>\n",
       "      <th>Tool</th>\n",
       "      <th>Platform</th>\n",
       "      <th>jobCount</th>\n",
       "      <th>Career</th>\n",
       "      <th>Location</th>\n",
       "      <th>Organization</th>\n",
       "      <th>Web</th>\n",
       "      <th>Date</th>\n",
       "      <th>Month</th>\n",
       "      <th>Year</th>\n",
       "      <th>ID</th>\n",
       "    </tr>\n",
       "  </thead>\n",
       "  <tbody>\n",
       "  </tbody>\n",
       "</table>\n",
       "</div>"
      ],
      "text/plain": [
       "Empty DataFrame\n",
       "Columns: [ProgrammingLanguage, Framework, Knowledge, Tool, Platform, jobCount, Career, Location, Organization, Web, Date, Month, Year, ID]\n",
       "Index: []"
      ]
     },
     "execution_count": 6,
     "metadata": {},
     "output_type": "execute_result"
    }
   ],
   "source": [
    "filter = exploded_df[exploded_df[\"Organization\"] == \"Assetario\"]\n",
    "filter.head(10)"
   ]
  },
  {
   "cell_type": "code",
   "execution_count": 3,
   "metadata": {},
   "outputs": [
    {
     "data": {
      "text/plain": [
       "0"
      ]
     },
     "execution_count": 3,
     "metadata": {},
     "output_type": "execute_result"
    }
   ],
   "source": [
    "a = [1, 2, 3, 4]\n",
    "b = [ 5, 6]\n",
    "\n",
    "len(set(a) & set(b))"
   ]
  },
  {
   "cell_type": "code",
   "execution_count": 4,
   "metadata": {},
   "outputs": [
    {
     "name": "stdout",
     "output_type": "stream",
     "text": [
      "[1, 2, 3, 4]\n"
     ]
    }
   ],
   "source": [
    "a = [1, 2, 3, 4]\n",
    "a_string = str(a)\n",
    "print(a_string)\n"
   ]
  },
  {
   "cell_type": "code",
   "execution_count": 2,
   "metadata": {},
   "outputs": [
    {
     "data": {
      "text/plain": [
       "'eh'"
      ]
     },
     "execution_count": 2,
     "metadata": {},
     "output_type": "execute_result"
    }
   ],
   "source": [
    "\",\".join([\"eh\"])"
   ]
  },
  {
   "cell_type": "code",
   "execution_count": 3,
   "metadata": {},
   "outputs": [
    {
     "name": "stdout",
     "output_type": "stream",
     "text": [
      "1 -  5\n",
      "2 -  6\n"
     ]
    }
   ],
   "source": [
    "a = [1, 2, 3, 4]\n",
    "b = [ 5, 6]\n",
    "\n",
    "for i, j in zip(a, b):\n",
    "    print(i ,\"- \", j)"
   ]
  },
  {
   "cell_type": "code",
   "execution_count": 5,
   "metadata": {},
   "outputs": [
    {
     "name": "stdout",
     "output_type": "stream",
     "text": [
      "{'BASIC': ['Java', 'C#'], 'INTERMEDIATE': [], 'ADVANCED': ['Python', 'SQL']}\n",
      "{'Java': 'BASIC', 'C#': 'BASIC', 'Python': 'ADVANCED', 'SQL': 'ADVANCED'}\n"
     ]
    }
   ],
   "source": [
    "\n",
    "def convertDict( userSkill, column):\n",
    "    new_structure = {\"BASIC\": [], \"INTERMEDIATE\": [], \"ADVANCED\": []}\n",
    "\n",
    "    # Iterating through the original dictionary\n",
    "    for language, level in userSkill[column].items():\n",
    "        # If the level is already a key in the new structure, append the language to its list\n",
    "        new_structure[level.upper()].append(language)\n",
    "        \n",
    "    # Updating the original dictionary\n",
    "    userSkill[column] = new_structure\n",
    "\n",
    "    return userSkill[column]\n",
    "\n",
    "def convertDictBack( dict, column):\n",
    "    original_structure = {}\n",
    "    for level, languages in dict[column].items():\n",
    "        for language in languages:\n",
    "            original_structure[language] = level\n",
    "\n",
    "    return original_structure\n",
    "\n",
    "# Assuming u is your refactored dictionary\n",
    "\n",
    "u = {\n",
    "    \"ProgrammingLanguage\": {\n",
    "        \"Java\": \"Basic\",\n",
    "        \"Python\": \"Advanced\",\n",
    "        \"C#\": \"Basic\",\n",
    "        \"SQL\": \"Advanced\"\n",
    "    }\n",
    "}\n",
    "ur = convertDict(u, \"ProgrammingLanguage\")\n",
    "print(ur)\n",
    "print(convertDictBack(u, \"ProgrammingLanguage\"))\n"
   ]
  },
  {
   "cell_type": "code",
   "execution_count": 6,
   "metadata": {},
   "outputs": [
    {
     "name": "stdout",
     "output_type": "stream",
     "text": [
      "where (toUpper(pl.level) = 'BASIC' and pl.programmingLanguage in ['Java', 'C#']) or (toUpper(pl.level) = 'ADVANCED' and pl.programmingLanguage in ['Python', 'SQL'])\n"
     ]
    }
   ],
   "source": [
    "def pl_to_neo4j_condition(pl):\n",
    "    # Initialize an empty list to hold condition parts\n",
    "    conditions = []\n",
    "\n",
    "    # Iterate through the dictionary\n",
    "    for level, languages in pl.items():\n",
    "        # Skip levels with empty language lists\n",
    "        if not languages:\n",
    "            continue\n",
    "\n",
    "        # Format the condition part for the current level and add it to the list\n",
    "        condition = \"(toUpper(pl.level) = '{}' and pl.programmingLanguage in {})\".format(level.upper(), languages)\n",
    "        conditions.append(condition)\n",
    "\n",
    "    # Join all condition parts with ' or '\n",
    "    final_condition = ' or '.join(conditions)\n",
    "\n",
    "    # Wrap the entire condition in 'where' clause if it's not empty\n",
    "    if final_condition:\n",
    "        final_condition = 'where ' + final_condition\n",
    "\n",
    "    return final_condition\n",
    "\n",
    "# Your programming languages dictionary\n",
    "pl = {'BASIC': ['Java', 'C#'], 'INTERMEDIATE': [], 'ADVANCED': ['Python', 'SQL']}\n",
    "\n",
    "# Convert to Neo4j condition\n",
    "neo4j_condition = pl_to_neo4j_condition(pl)\n",
    "print(neo4j_condition)\n"
   ]
  },
  {
   "cell_type": "code",
   "execution_count": null,
   "metadata": {},
   "outputs": [],
   "source": [
    "def toNeo4jCondition( competencyColumn):\n",
    "        # Initialize an empty list to hold condition parts\n",
    "        conditions = []\n",
    "\n",
    "        # Iterate through the dictionary\n",
    "        for level, languages in competencyColumn.items():\n",
    "            # Skip levels with empty language lists\n",
    "            if not languages:\n",
    "                continue\n",
    "\n",
    "            # Format the condition part for the current level and add it to the list\n",
    "            condition = \"(toUpper(pl.level) = '{}' and pl.programmingLanguage in {})\".format(level.upper(), languages)\n",
    "            conditions.append(condition)\n",
    "\n",
    "        # Join all condition parts with ' or '\n",
    "        final_condition = ' or '.join(conditions)\n",
    "\n",
    "        # Wrap the entire condition in 'where' clause if it's not empty\n",
    "        if final_condition:\n",
    "            final_condition = 'where ' + final_condition\n",
    "\n",
    "        return final_condition\n",
    "\n",
    "def updateUser(Competency, username):\n",
    "    query = f''' match(u:User)\n",
    "    where toUpper(u.username) = \\\"{username.upper()}\\\"\n",
    "    match(u)-[:Known_programmingLanguage]->(pl : ProgrammingLanguage)  {toNeo4jCondition(Competency[\"ProgrammingLanguage\"])} \n",
    "    optional match(u)-[:Known_knowledge]->(kl: Knowledge)  {toNeo4jCondition(Competency[\"Knowledge\"])}\n",
    "    optional match(u)-[:Known_platform]->(pf: Platform)  {toNeo4jCondition(Competency[\"Platform\"])}\n",
    "    optional match(u)-[:Known_tool]->(tl: Tool)  {toNeo4jCondition(Competency[\"Tool\"])}\n",
    "    optional match(u)-[:Known_framework]->(fw: Framework)  {toNeo4jCondition(Competency[\"Framework\"])}\n",
    "    set u.name = FullName, u.email = Email, u.phone = Phone\n",
    "    merge(u)-[:Known_knowledge]->(kl)\n",
    "    merge(u)-[:Known_programmingLanguage]->(pl)\n",
    "    merge(u)-[:Known_platform]->(pf)\n",
    "    merge(u)-[:Known_tool]->(tl)\n",
    "    merge(u)-[:Known_framework]->(fw)\n",
    "    '''\n",
    "    a = queryToDataFrame(query)\n",
    "    return True\n"
   ]
  },
  {
   "cell_type": "code",
   "execution_count": 10,
   "metadata": {},
   "outputs": [
    {
     "name": "stdout",
     "output_type": "stream",
     "text": [
      "{'Knowledge': ['DATA PIPELINES', 'DATABASES', 'COMPUTER SCIENCE', 'SQL', 'DATA WAREHOUSE', 'DATA ANALYSIS', 'ALGORITHM', 'OOP', 'DATABASE', 'ANALYSIS'], 'Platform': ['MYSQL', 'CLOUD', 'AZURE'], 'Tool': ['ORACLE DATABASE', 'MYSQL', 'GIT'], 'ProgrammingLanguage': {'BASIC': ['C#', 'JAVA'], 'INTERMEDIATE': ['SQL'], 'ADVANCED': ['C++', 'PYTHON']}, 'Framework': {'BASIC': ['ASP.NET', 'SPRING'], 'INTERMEDIATE': ['SPARK'], 'ADVANCED': ['PANDAS']}}\n"
     ]
    }
   ],
   "source": [
    "data = {'Knowledge': ['DATA PIPELINES', 'DATABASES', 'COMPUTER SCIENCE', 'SQL', 'DATA WAREHOUSE', 'DATA ANALYSIS', 'ALGORITHM', 'OOP', 'DATABASE', 'ANALYSIS'], \n",
    "        'Platform': ['MYSQL', 'CLOUD', 'AZURE'],\n",
    "          'Tool': ['ORACLE DATABASE', 'MYSQL', 'GIT'],\n",
    "            'ProgrammingLanguage': {'BASIC': ['C#', 'PYTHON', 'JAVA'], 'INTERMEDIATE': ['SQL'], 'ADVANCED': ['C++', 'PYTHON']}, \n",
    "            'Framework': {'BASIC': ['ASP.NET', 'SPRING', 'SPARK', 'PANDAS'], 'INTERMEDIATE': ['SPARK'], 'ADVANCED': ['PANDAS']}}\n",
    "\n",
    "def removeDuplicatesBasedOnHierarchy(data):\n",
    "        # Define the hierarchy order\n",
    "    hierarchy = ['ADVANCED', 'INTERMEDIATE', 'BASIC']\n",
    "    \n",
    "    for key in data.keys():\n",
    "        if (key not in [\"ProgrammingLanguage\", \"Framework\"]): continue\n",
    "        # Temporarily store items in a set for comparison, to avoid duplicates\n",
    "        seen = set()\n",
    "        \n",
    "        # Iterate according to the hierarchy (from highest to lowest)\n",
    "        for level in hierarchy:\n",
    "            current_level_items = data[key][level]\n",
    "            \n",
    "            # If the current level items are not in a list form (e.g., empty string), skip\n",
    "            if not isinstance(current_level_items, list):\n",
    "                continue\n",
    "            \n",
    "            # Add current level items to the seen set (since they have the highest precedence)\n",
    "            new_items = []\n",
    "            for item in current_level_items:\n",
    "                if item not in seen:\n",
    "                    seen.add(item)\n",
    "                    new_items.append(item)\n",
    "                    \n",
    "            # Update the current level with items not previously seen in higher levels\n",
    "            data[key][level] = new_items\n",
    "            \n",
    "            # For lower levels, remove any items that have been seen in higher levels\n",
    "            for lower_level in hierarchy[hierarchy.index(level)+1:]:\n",
    "                lower_level_items = data[key][lower_level]\n",
    "                # Skip if not in list form\n",
    "                if not isinstance(lower_level_items, list):\n",
    "                    continue\n",
    "                data[key][lower_level] = [item for item in lower_level_items if item not in seen]\n",
    "\n",
    "\n",
    "removeDuplicatesBasedOnHierarchy(data)\n",
    "print(data)\n"
   ]
  },
  {
   "cell_type": "code",
   "execution_count": 13,
   "metadata": {},
   "outputs": [
    {
     "data": {
      "text/plain": [
       "[1, 2, 3]"
      ]
     },
     "execution_count": 13,
     "metadata": {},
     "output_type": "execute_result"
    }
   ],
   "source": [
    "listz =[1, 2, 3, 4, 5, 6, 7, 8, 9]\n",
    "listz = listz[:5]\n",
    "listz"
   ]
  },
  {
   "cell_type": "code",
   "execution_count": 14,
   "metadata": {},
   "outputs": [
    {
     "name": "stdout",
     "output_type": "stream",
     "text": [
      "SCIKIT-LEARN,XGBOOST,LIGHTGBM,MATPLOTLIB,PANDAS\n"
     ]
    }
   ],
   "source": [
    "print(\",\".join(['SCIKIT-LEARN', 'XGBOOST', 'LIGHTGBM', 'MATPLOTLIB', 'PANDAS']))"
   ]
  },
  {
   "cell_type": "code",
   "execution_count": 1,
   "metadata": {},
   "outputs": [],
   "source": [
    "def list2String(listVal):\n",
    "    if type(listVal) == str: return listVal\n",
    "    if type(listVal) == list:\n",
    "        return \",\".join(listVal)\n",
    "    \n",
    "    return str(listVal)"
   ]
  },
  {
   "cell_type": "code",
   "execution_count": 3,
   "metadata": {},
   "outputs": [
    {
     "name": "stdout",
     "output_type": "stream",
     "text": [
      "ok\n",
      "2\n",
      "dasda,adsdas,asd\n"
     ]
    }
   ],
   "source": [
    "print(list2String(\"ok\"))\n",
    "print(list2String(2))\n",
    "print(list2String([\"dasda\", \"adsdas\", \"asd\"]))"
   ]
  },
  {
   "cell_type": "code",
   "execution_count": null,
   "metadata": {},
   "outputs": [],
   "source": []
  }
 ],
 "metadata": {
  "kernelspec": {
   "display_name": "spark2",
   "language": "python",
   "name": "spark2"
  },
  "language_info": {
   "codemirror_mode": {
    "name": "ipython",
    "version": 3
   },
   "file_extension": ".py",
   "mimetype": "text/x-python",
   "name": "python",
   "nbconvert_exporter": "python",
   "pygments_lexer": "ipython3",
   "version": "3.9.18"
  }
 },
 "nbformat": 4,
 "nbformat_minor": 2
}
