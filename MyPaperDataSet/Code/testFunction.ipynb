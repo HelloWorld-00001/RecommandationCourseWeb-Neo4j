{
 "cells": [
  {
   "cell_type": "code",
   "execution_count": 11,
   "metadata": {},
   "outputs": [
    {
     "name": "stdout",
     "output_type": "stream",
     "text": [
      " where  toUpper(c.level) = \"BASIC\" and c.price = 0 and c.duration < 9\n"
     ]
    }
   ],
   "source": [
    "def makeCourseFilterCondition(level, price, duration):\n",
    "        condition = \" where \"\n",
    "\n",
    "        if (level == \"None\"):\n",
    "            levelCondition = \"\"\n",
    "        else:\n",
    "            condition += f\" toUpper(c.level) = \\\"{level.upper()}\\\" and \"\n",
    "\n",
    "        if price == \"Free\":\n",
    "            condition += f\"c.price = 0\"\n",
    "        else:\n",
    "            condition += f\"c.price != 0\"\n",
    "        \n",
    "        if (duration != \"Unlimit\"):\n",
    "            condition += f\" and c.duration < {int(duration) + 1}\"\n",
    "\n",
    "\n",
    "        return condition\n",
    "\n",
    "\n",
    "print(makeCourseFilterCondition(\"Basic\", \"Free\", \"8\"))\n"
   ]
  },
  {
   "cell_type": "code",
   "execution_count": null,
   "metadata": {},
   "outputs": [],
   "source": []
  }
 ],
 "metadata": {
  "kernelspec": {
   "display_name": "spark2",
   "language": "python",
   "name": "spark2"
  },
  "language_info": {
   "codemirror_mode": {
    "name": "ipython",
    "version": 3
   },
   "file_extension": ".py",
   "mimetype": "text/x-python",
   "name": "python",
   "nbconvert_exporter": "python",
   "pygments_lexer": "ipython3",
   "version": "3.9.18"
  }
 },
 "nbformat": 4,
 "nbformat_minor": 2
}
